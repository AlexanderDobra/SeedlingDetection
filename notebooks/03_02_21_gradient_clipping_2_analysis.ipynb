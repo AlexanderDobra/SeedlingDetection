{
 "cells": [
  {
   "cell_type": "markdown",
   "metadata": {},
   "source": [
    "##Summary\n",
    "After introducing gradient clipping to solve the nan training problem we now have a new hyperparameter: How much should the gradients be clipped at (before the learning rate is applied). \n",
    "Prelim analysis showed that the average gradients were very small, with many outliers (probably the gradients that are actually important). The SD of the gradients was highest at the first epoch and the values ranged between -1 to 1. This ranged dropped to approx -0.02 to 0.02 in later epochs. \n",
    "The different hyperparameter combinations tested:\n",
    "Learning rate : 0.2 - a learning rate that isn't possible without clipping because it lead to NaN models. 0.002 - a standard learning rate\n",
    "Clip: 5 - only for real instances of exploding gradients. 1 - will clip some values in first few epochs. 0.5 - Will clip many values in first few epochs. 0.1 - will clip some values even in later epochs. 0.025 - will continuously clip values.\n",
    "Seed: Two runs at each combination were run\n",
    "\n",
    "##Results\n",
    "\n",
    "A clip of 1-2 should be the best"
   ]
  },
  {
   "cell_type": "code",
   "execution_count": 1,
   "metadata": {},
   "outputs": [],
   "source": [
    "# So that packages are automatically reloaded if analysis functions need to be updated\n",
    "%load_ext autoreload\n",
    "%autoreload 2\n",
    "# We need to include the module in the path\n",
    "import pathlib\n",
    "import sys\n",
    "import os\n",
    "import matplotlib.pyplot as plt\n",
    "plt.rcParams['figure.dpi'] = 150\n",
    "# Set up path stuff (to orient the notebook within the package structure)\n",
    "module_path = pathlib.Path.cwd()\n",
    "base_dir = module_path.parent.absolute()\n",
    "model_dir = base_dir / \"models\" / \"trained\"\n",
    "sys.path.append(str(base_dir))\n",
    "# Now we can import package modules\n",
    "from src.analysis.analysis_functions import *"
   ]
  },
  {
   "cell_type": "code",
   "execution_count": 2,
   "metadata": {},
   "outputs": [
    {
     "name": "stdout",
     "output_type": "stream",
     "text": [
      "Loading run data...\n",
      "Reading run info from server\n",
      "Run 0 of 20 (0.00%)\n",
      "Run 10 of 20 (50.00%)\n",
      "Finished reading run info from server\n"
     ]
    }
   ],
   "source": [
    "print(\"Loading run data...\")\n",
    "df = get_dataframe(model_dir, taskname=\"seedlings_clipping_3\")\n",
    "df = get_runs_data(df)\n",
    "# Now remove the duplicate columns from - and _ metric naming\n",
    "df = repair_mixed_metrics(df)"
   ]
  },
  {
   "cell_type": "code",
   "execution_count": 3,
   "metadata": {},
   "outputs": [
    {
     "name": "stdout",
     "output_type": "stream",
     "text": [
      "metric params               test_MAP_step                                \\\n",
      "point    clip learning_rate             0         1         2         3   \n",
      "0       5.000         0.002      0.266217  0.396245  0.427049  0.434910   \n",
      "1       0.100         0.200      0.316051  0.363207  0.333935  0.489835   \n",
      "2       0.100         0.200      0.203709  0.368297  0.368948  0.432231   \n",
      "3       1.000         0.002      0.069947  0.227544  0.317911  0.340087   \n",
      "4       0.025         0.002      0.001764  0.000555  0.004054  0.001046   \n",
      "5       0.500         0.200      0.262065  0.239720  0.229848  0.236730   \n",
      "6       0.025         0.200      0.185517  0.361041  0.438730  0.360108   \n",
      "7       1.000         0.002      0.093247  0.255645  0.315969  0.389628   \n",
      "8       0.025         0.200      0.163093  0.341392  0.431739  0.472524   \n",
      "9       1.000         0.200      0.056971  0.144727  0.102161  0.217415   \n",
      "10      0.100         0.002      0.007088  0.003573  0.009869  0.035033   \n",
      "11      5.000         0.200      0.000234  0.000000       NaN       NaN   \n",
      "12      1.000         0.200      0.113423  0.101364  0.181209  0.101754   \n",
      "13      0.025         0.002      0.004500  0.001786  0.001188  0.003310   \n",
      "14      0.500         0.002      0.012306  0.152064  0.199808  0.256263   \n",
      "15      0.500         0.200      0.287902  0.258272  0.157488  0.414307   \n",
      "16      5.000         0.002      0.161146  0.345790  0.411088  0.378163   \n",
      "17      0.500         0.002      0.053708  0.209505  0.227100  0.299455   \n",
      "18      5.000         0.200      0.000000       NaN       NaN       NaN   \n",
      "19      0.100         0.002      0.004313  0.008274  0.023867  0.046361   \n",
      "\n",
      "metric                                                              \n",
      "point          4         5         6         7         8         9  \n",
      "0       0.408930  0.487956  0.503841  0.515903  0.513469  0.529701  \n",
      "1       0.439890  0.483852  0.513390  0.546333  0.506752  0.497376  \n",
      "2       0.464923  0.494752  0.445115  0.519630  0.525570  0.455588  \n",
      "3       0.398974  0.428955  0.427321  0.440011  0.399239  0.395687  \n",
      "4       0.001538  0.002634  0.004011  0.004227  0.004040  0.006536  \n",
      "5       0.300615  0.404824  0.323853  0.276306  0.398097  0.376238  \n",
      "6       0.442179  0.406378  0.475064  0.436531  0.417352  0.441495  \n",
      "7       0.398709  0.404517  0.411583  0.399818  0.434838  0.398572  \n",
      "8       0.458236  0.501160  0.471580  0.471509  0.497105  0.432266  \n",
      "9       0.204193  0.140514  0.211697  0.255020  0.351192  0.182798  \n",
      "10      0.056962  0.087905  0.124628  0.148361  0.155231  0.157193  \n",
      "11           NaN       NaN       NaN       NaN       NaN       NaN  \n",
      "12      0.115708  0.184812  0.287924  0.138891  0.078439  0.193816  \n",
      "13      0.004084  0.004490  0.006797  0.009708  0.007769  0.012303  \n",
      "14      0.287288  0.371910  0.377132  0.353002  0.348433  0.387137  \n",
      "15      0.295534  0.402776  0.285700  0.342783  0.372010  0.347609  \n",
      "16      0.501439  0.493822  0.414330  0.489715  0.383901  0.489488  \n",
      "17      0.354381  0.374121  0.386606  0.403097  0.410736  0.384400  \n",
      "18           NaN       NaN       NaN       NaN       NaN       NaN  \n",
      "19      0.082353  0.112805  0.162506  0.126692  0.181188  0.182251  \n",
      "------------------------\n",
      "------------------------\n",
      "------------------------\n",
      "------------------------\n",
      "------------------------\n"
     ]
    },
    {
     "name": "stderr",
     "output_type": "stream",
     "text": [
      "/mnt/data/jooste/env/lib/python3.6/site-packages/IPython/core/interactiveshell.py:3343: PerformanceWarning: indexing past lexsort depth may impact performance.\n",
      "  exec(code_obj, self.user_global_ns, self.user_ns)\n",
      "/mnt/data/jooste/env/lib/python3.6/site-packages/pandas/plotting/_core.py:1017: PerformanceWarning: indexing past lexsort depth may impact performance.\n",
      "  return self(kind=\"line\", x=x, y=y, **kwargs)\n",
      "/mnt/data/jooste/env/lib/python3.6/site-packages/ipykernel_launcher.py:19: PerformanceWarning: indexing past lexsort depth may impact performance.\n",
      "/mnt/data/jooste/env/lib/python3.6/site-packages/IPython/core/interactiveshell.py:3343: PerformanceWarning: indexing past lexsort depth may impact performance.\n",
      "  exec(code_obj, self.user_global_ns, self.user_ns)\n",
      "/mnt/data/jooste/env/lib/python3.6/site-packages/pandas/plotting/_core.py:1017: PerformanceWarning: indexing past lexsort depth may impact performance.\n",
      "  return self(kind=\"line\", x=x, y=y, **kwargs)\n",
      "/mnt/data/jooste/env/lib/python3.6/site-packages/ipykernel_launcher.py:19: PerformanceWarning: indexing past lexsort depth may impact performance.\n",
      "/mnt/data/jooste/env/lib/python3.6/site-packages/IPython/core/interactiveshell.py:3343: PerformanceWarning: indexing past lexsort depth may impact performance.\n",
      "  exec(code_obj, self.user_global_ns, self.user_ns)\n",
      "/mnt/data/jooste/env/lib/python3.6/site-packages/pandas/plotting/_core.py:1017: PerformanceWarning: indexing past lexsort depth may impact performance.\n",
      "  return self(kind=\"line\", x=x, y=y, **kwargs)\n",
      "/mnt/data/jooste/env/lib/python3.6/site-packages/ipykernel_launcher.py:19: PerformanceWarning: indexing past lexsort depth may impact performance.\n",
      "/mnt/data/jooste/env/lib/python3.6/site-packages/IPython/core/interactiveshell.py:3343: PerformanceWarning: indexing past lexsort depth may impact performance.\n",
      "  exec(code_obj, self.user_global_ns, self.user_ns)\n",
      "/mnt/data/jooste/env/lib/python3.6/site-packages/pandas/plotting/_core.py:1017: PerformanceWarning: indexing past lexsort depth may impact performance.\n",
      "  return self(kind=\"line\", x=x, y=y, **kwargs)\n",
      "/mnt/data/jooste/env/lib/python3.6/site-packages/ipykernel_launcher.py:19: PerformanceWarning: indexing past lexsort depth may impact performance.\n"
     ]
    },
    {
     "data": {
      "image/png": "[encoded data removed]",
      "text/plain": [
       "<Figure size 900x600 with 5 Axes>"
      ]
     },
     "metadata": {
      "needs_background": "light"
     },
     "output_type": "display_data"
    }
   ],
   "source": [
    "# We want to see what clip was best for the two different learning rates\n",
    "lvl_0 = df.columns.get_level_values(level=0)\n",
    "lvl_1 = df.columns.get_level_values(level=1)\n",
    "# There must be a nicer way of doing this\n",
    "cond_0 = lvl_0==\"test_MAP_step\"\n",
    "cond_1 = lvl_1.isin([\"clip\", \"learning_rate\"])\n",
    "rest_df = df.loc[:, cond_0 | cond_1]\n",
    "# Now we plot the multiple learning curves for each clip\n",
    "groups = rest_df.groupby((\"params\", \"clip\"))\n",
    "ind = 1\n",
    "print(rest_df)\n",
    "for group_val, group in groups:\n",
    "    ax = plt.subplot(1, len(groups) , ind)\n",
    "    ind += 1\n",
    "    print(\"------------------------\")\n",
    "    new_group = group.set_index([(\"params\", \"learning_rate\"), (\"params\", \"clip\")]).transpose()\n",
    "    subs = {0.002: \"red\", 0.2: \"blue\"}\n",
    "    colours = [subs[lr] for lr in new_group.columns.get_level_values(0)]\n",
    "    new_group.plot.line(ax=ax, legend=False, color=colours)\n",
    "    # Remove tick labels\n",
    "    ax.set_xticklabels([])\n",
    "    ax.set_xlabel(\"\")\n",
    "    ax.set_box_aspect(1)\n",
    "    ax.set_title(f\"clip={group_val}\")\n",
    "    ax.axis([0,10,0,1])\n",
    "\n",
    "plt.tight_layout()\n",
    "plt.show()"
   ]
  },
  {
   "cell_type": "markdown",
   "metadata": {},
   "source": [
    "It appears that the network can still learn with very small clips as long as it can compensate with a larger learning rate. But this also shows that the graients > 0.1 contribute disproportionaty towards the learning process at normal learning rates. A clip of 5 still allows for the network to break in some way, but got the best scores for the normal learning rate. Perhaps a clip of 1.5 - 2 would be the best. Because this is not particularly important we can just settle for a clip of 1.5 and a learning rate << 0.2"
   ]
  },
  {
   "cell_type": "code",
   "execution_count": null,
   "metadata": {},
   "outputs": [],
   "source": []
  }
 ],
 "metadata": {
  "kernelspec": {
   "display_name": "Python 3",
   "language": "python",
   "name": "python3"
  },
  "language_info": {
   "codemirror_mode": {
    "name": "ipython",
    "version": 3
   },
   "file_extension": ".py",
   "mimetype": "text/x-python",
   "name": "python",
   "nbconvert_exporter": "python",
   "pygments_lexer": "ipython3",
   "version": "3.6.9"
  }
 },
 "nbformat": 4,
 "nbformat_minor": 4
}
