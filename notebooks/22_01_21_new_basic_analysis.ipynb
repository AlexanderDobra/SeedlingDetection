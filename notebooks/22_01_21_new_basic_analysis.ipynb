{
 "cells": [
  {
   "cell_type": "code",
   "execution_count": 1,
   "metadata": {
    "collapsed": true
   },
   "outputs": [
    {
     "name": "stdout",
     "output_type": "stream",
     "text": [
      "/mnt/data/jooste/env/bin/python3\n",
      "/mnt/data/jooste/temp/seedlings/notebooks\n",
      "['/usr/lib/python36.zip', '/usr/lib/python3.6', '/usr/lib/python3.6/lib-dynload', '', '/mnt/data/jooste/env/lib/python3.6/site-packages', '/mnt/data/jooste/env/lib/python3.6/site-packages/IPython/extensions', '/mnt/data/jooste/.ipython']\n",
      "['/usr/lib/python36.zip', '/usr/lib/python3.6', '/usr/lib/python3.6/lib-dynload', '', '/mnt/data/jooste/env/lib/python3.6/site-packages', '/mnt/data/jooste/env/lib/python3.6/site-packages/IPython/extensions', '/mnt/data/jooste/.ipython', '/mnt/data/jooste/temp/seedlings']\n"
     ]
    }
   ],
   "source": [
    "# We need to include the module in the path\n",
    "import pathlib\n",
    "import sys\n",
    "import os\n",
    "module_path = pathlib.Path.cwd()\n",
    "base_dir = module_path.parent.absolute()\n",
    "sys.path.append(str(base_dir))\n",
    "# Now we can import package modules\n",
    "from src.analysis.analysis_functions import *"
   ]
  },
  {
   "cell_type": "code",
   "execution_count": 9,
   "metadata": {
    "pycharm": {
     "name": "#%%\n"
    }
   },
   "outputs": [
    {
     "name": "stdout",
     "output_type": "stream",
     "text": [
      "Index(['base_model_path', 'best_model_epoch', 'dataloader_num_workers',\n",
      "       'develop', 'device', 'epochs', 'eval_batch_size', 'experiment_id',\n",
      "       'learning_rate', 'logging_steps', 'max_seq_length', 'model_name',\n",
      "       'model_type', 'momentum', 'optimiser', 'output_dir', 'patience',\n",
      "       'run_id', 'seed', 'task_description', 'task_name', 'test_MAP',\n",
      "       'test_file', 'train_batch_size', 'train_file', 'trained_model_path',\n",
      "       'valid_ratio', 'weight_decay'],\n",
      "      dtype='object')\n"
     ]
    }
   ],
   "source": [
    "model_dir = base_dir / \"models\" / \"trained\"\n",
    "vanilla_df = get_dataframe(model_dir, taskname=\"seedlings_improve_stability_02\")\n",
    "new_df = get_dataframe(model_dir, taskname=\"seedlings_SGD_basic\")"
   ]
  },
  {
   "cell_type": "code",
   "execution_count": 22,
   "metadata": {
    "pycharm": {
     "name": "#%%\n"
    }
   },
   "outputs": [
    {
     "data": {
      "text/plain": [
       "<AxesSubplot:>"
      ]
     },
     "execution_count": 22,
     "metadata": {},
     "output_type": "execute_result"
    },
    {
     "data": {
      "image/png": "[encoded data removed]",
      "text/plain": [
       "<Figure size 432x288 with 1 Axes>"
      ]
     },
     "metadata": {
      "needs_background": "light"
     },
     "output_type": "display_data"
    }
   ],
   "source": [
    "# This could probably be more elegantly done with groupby\n",
    "import pandas as pd\n",
    "results = pd.DataFrame(vanilla_df[\"test_MAP\"])\n",
    "finals = new_df[\"base_model_path\"].str.contains(pat=\"_final\")\n",
    "results[\"final_MAP\"] = new_df.loc[finals, \"test_MAP\"].tolist()\n",
    "firsts = new_df[\"base_model_path\"].str.contains(pat=\"_first\")\n",
    "results[\"first_MAP\"] = new_df.loc[firsts, \"test_MAP\"].tolist()\n",
    "results[results == 0] = float(\"nan\")\n",
    "results.boxplot()"
   ]
  },
  {
   "cell_type": "code",
   "execution_count": null,
   "metadata": {
    "pycharm": {
     "name": "#%%\n"
    }
   },
   "outputs": [],
   "source": []
  }
 ],
 "metadata": {
  "kernelspec": {
   "display_name": "Python 3",
   "language": "python",
   "name": "python3"
  },
  "language_info": {
   "codemirror_mode": {
    "name": "ipython",
    "version": 3
   },
   "file_extension": ".py",
   "mimetype": "text/x-python",
   "name": "python",
   "nbconvert_exporter": "python",
   "pygments_lexer": "ipython3",
   "version": "3.6.9"
  },
  "pycharm": {
   "stem_cell": {
    "cell_type": "raw",
    "metadata": {
     "collapsed": false
    },
    "source": [
     "We want to see now if the new models perform better than the vanilla model with SGD and\n",
     "more stable hyperparams\n",
     "\n",
     "\n"
    ]
   }
  }
 },
 "nbformat": 4,
 "nbformat_minor": 1
}
